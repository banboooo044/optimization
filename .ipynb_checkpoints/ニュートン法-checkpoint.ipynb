{
 "cells": [
  {
   "cell_type": "markdown",
   "metadata": {},
   "source": [
    "# Newton's Method\n",
    "1. Formulation\n",
    "<br> finding $x \\in \\mathbb{R}^n $ such that $ f_1(x) = 0 ,\\  f_2(x) = 0 ,\\ \\dots f_n(x) = 0$\n",
    "2. Update Equation\n",
    "    1. one-variable function\n",
    "     \\begin{align}\n",
    "       & Suppose \\quad f : (a, b) \\to \\mathbb{R} \\\\\n",
    "       &x^{(t+1)} = x^{(t)} - \\frac{f(x^{(t)})}{f'(x^{(t)})}\n",
    "    \\end{align}\n",
    "    2. multi-variable function\n",
    "    \\begin{align}\n",
    "       & Suppose \\quad f : (a, b)^n \\to  \\mathbb{R}^n \\\\\n",
    "       &x^{(t+1)} = x^{(t)} - J^{-1} f(x^{(t)}) \\quad ( J : Jacobian )\n",
    "    \\end{align}\n"
   ]
  },
  {
   "cell_type": "code",
   "execution_count": 4,
   "metadata": {},
   "outputs": [],
   "source": [
    "import numpy as np\n",
    "def Jacobian(F,x):\n",
    "    '''\n",
    "    Newton's method.\n",
    "    finding successively better approximations to the roots (or zeroes) of a real-valued function.\n",
    "\n",
    "    Parameters\n",
    "    ----------\n",
    "    F : numpy.ndarray (1d)\n",
    "        Each function f satisfies the following condition.\n",
    "        1. twice differentiable 2. monotonic increase in serach interval 3.  \n",
    "    x : numpy.ndarray (1d)\n",
    "        current point\n",
    "\n",
    "    '''\n",
    "    dim = len(F)\n",
    "    jacobian = np.empty((dim,dim))\n",
    "    for i in range(dim):\n",
    "        for j in range(dim):\n",
    "            eps = np.zeros(dim)\n",
    "            eps[j] = 1e-6\n",
    "            jacobian[i,j] = ((F[i](*(x+eps)) - F[i](*x)) / 1e-6)\n",
    "    return jacobian"
   ]
  },
  {
   "cell_type": "markdown",
   "metadata": {},
   "source": [
    "## Jacobian Test\n",
    "\n",
    "\\begin{align}\n",
    "   f(x,y) &= x^2+ y \\\\\n",
    "   g(x,y) &= 3x + 4y\n",
    "\\end{align}\n",
    "\\begin{align}\n",
    "    J = \\left(\n",
    "    \\begin{array}{cc}\n",
    "      \\frac{\\partial f}{\\partial x} & \\frac{\\partial f}{\\partial y} \\\\\n",
    "      \\frac{\\partial g}{\\partial x} & \\frac{\\partial g}{\\partial y}\n",
    "    \\end{array}\n",
    "  \\right) =  \\left(\n",
    "    \\begin{array}{cc}\n",
    "      2x & 1\\\\\n",
    "      3 & 4\n",
    "    \\end{array}\n",
    "  \\right) \n",
    "\\end{align}\n"
   ]
  },
  {
   "cell_type": "code",
   "execution_count": 5,
   "metadata": {},
   "outputs": [
    {
     "name": "stdout",
     "output_type": "stream",
     "text": [
      "[[ 2.000001  1.      ]\n",
      " [ 3.        4.      ]]\n"
     ]
    }
   ],
   "source": [
    "## JacobianTest\n",
    "f = np.array([ lambda x,y: x ** 2 + y , lambda x,y: 3*x + 4 * y])\n",
    "x = np.array([ 1,1 ])\n",
    "print(Jacobian(f,x))"
   ]
  },
  {
   "cell_type": "code",
   "execution_count": 19,
   "metadata": {},
   "outputs": [],
   "source": [
    "# Newton's Method\n",
    "def newton(func, initRoot,maxiter=100,eps=1e-6):\n",
    "    '''\n",
    "    Find a zero of a real or complex function using the Newton-Raphson method.\n",
    "    Parameters\n",
    "    ----------\n",
    "    F : callable\n",
    "        The function whose zero is wanted.\n",
    "    initRoot : float, sequence, or ndarray\n",
    "        An initial estimate of the zero that should be somewhere near the\n",
    "        actual zero.\n",
    "    maxiter : int, optional\n",
    "        Maximum number of iterations.\n",
    "\n",
    "    '''\n",
    "\n",
    "    dim = len(func)\n",
    "    root = initRoot\n",
    "    f = lambda x: np.array([ func[i](*x) for i in range(dim)])\n",
    "    for i in range(maxiter):\n",
    "        print(\"Iteration : {0} , Root : {1} , f(x_root) : {2}\".format(i,root,f(root)))\n",
    "        if dim == 1:\n",
    "            nextRoot = root - f(root) / Jacobian(func,root)\n",
    "        else:\n",
    "            nextRoot = root - np.linalg.inv(Jacobian(func,root)) @ f(root)\n",
    "        if np.all(abs(f(nextRoot) - f(root)) < eps):\n",
    "            root = nextRoot\n",
    "            break\n",
    "        root = nextRoot\n",
    "    return root , f(root)\n",
    "    "
   ]
  },
  {
   "cell_type": "markdown",
   "metadata": {},
   "source": [
    "## Newton's Method Test\n",
    "1. one-variable function\n",
    "$$ f(x) = x^2 - 2 $$\n",
    "$$ exact\\ solution\\  x = \\sqrt{2} = 1.41421356 \\dots $$ \n",
    "2. multi-variable function\n",
    "$$ f_0(x,y) = x^2 + y^2 - 1 ,\\ f_1(x,y) =  -x^3 +  y $$"
   ]
  },
  {
   "cell_type": "code",
   "execution_count": 20,
   "metadata": {},
   "outputs": [
    {
     "name": "stdout",
     "output_type": "stream",
     "text": [
      "Iteration : 0 , Root : [50] , f(x_root) : [2498]\n",
      "Iteration : 1 , Root : [[ 25.02000016]] , f(x_root) : [[ 624.00040821]]\n",
      "Iteration : 2 , Root : [[ 12.54996834]] , f(x_root) : [[ 155.50170539]]\n",
      "Iteration : 3 , Root : [[ 6.35466589]] , f(x_root) : [[ 38.38177854]]\n",
      "Iteration : 4 , Root : [[ 3.33469787]] , f(x_root) : [[ 9.12020986]]\n",
      "Iteration : 5 , Root : [[ 1.96722638]] , f(x_root) : [[ 1.86997963]]\n",
      "Iteration : 6 , Root : [[ 1.49194322]] , f(x_root) : [[ 0.22589456]]\n",
      "Iteration : 7 , Root : [[ 1.41623843]] , f(x_root) : [[ 0.00573129]]\n",
      "Iteration : 8 , Root : [[ 1.41421501]] , f(x_root) : [[  4.09624905e-06]]\n",
      "Iteration : 9 , Root : [[ 1.41421356]] , f(x_root) : [[  3.54560825e-12]]\n",
      "ROOT :  [[ 1.41421356]]\n",
      "f(x{root}) :  [[ -4.44089210e-16]]\n"
     ]
    }
   ],
   "source": [
    "# Experiment 1 ( one-variable function )\n",
    "func = np.array([ lambda x: x**2 - 2]) \n",
    "initRoot = np.array([50])\n",
    "root , value = newton(func ,initRoot )\n",
    "print(\"ROOT : \",end=\" \")\n",
    "print(root)\n",
    "print(\"f(x{root}) : \",end=\" \")\n",
    "print(value)"
   ]
  },
  {
   "cell_type": "code",
   "execution_count": 24,
   "metadata": {},
   "outputs": [
    {
     "name": "stdout",
     "output_type": "stream",
     "text": [
      "Iteration : 0 , Root : [2 1] , f(x_root) : [ 4 -7]\n",
      "Iteration : 1 , Root : [ 1.35714318  0.28571432] , f(x_root) : [ 0.92347029 -2.21392304]\n",
      "Iteration : 2 , Root : [ 0.984413    0.44011045] , f(x_root) : [ 0.16276617 -0.51385363]\n",
      "Iteration : 3 , Root : [ 0.84857018  0.55904051] , f(x_root) : [ 0.03259765 -0.05199058]\n",
      "Iteration : 4 , Root : [ 0.8265085   0.56337306] , f(x_root) : [ 0.00050551 -0.00122836]\n",
      "Iteration : 5 , Root : [ 0.82603159  0.56362408] , f(x_root) : [  2.90672945e-07  -5.65016460e-07]\n",
      "ROOT :  [ 0.82603136  0.56362416]\n",
      "f(x{root}) :  [  2.10942375e-13  -7.16648962e-13]\n"
     ]
    }
   ],
   "source": [
    "# Experiment 2 ( multi-variable function )\n",
    "func = np.array([ lambda x,y: x**2 + y**2 - 1,lambda x,y: y- x**3 ])\n",
    "initRoot1 = np.array([ 2,1 ])\n",
    "root , value = newton(func ,initRoot1 )\n",
    "print(\"ROOT : \",end=\" \")\n",
    "print(root)\n",
    "print(\"f(x{root}) : \",end=\" \")\n",
    "print(value)"
   ]
  },
  {
   "cell_type": "code",
   "execution_count": null,
   "metadata": {
    "collapsed": true
   },
   "outputs": [],
   "source": []
  }
 ],
 "metadata": {
  "kernelspec": {
   "display_name": "Python 3",
   "language": "python",
   "name": "python3"
  },
  "language_info": {
   "codemirror_mode": {
    "name": "ipython",
    "version": 3
   },
   "file_extension": ".py",
   "mimetype": "text/x-python",
   "name": "python",
   "nbconvert_exporter": "python",
   "pygments_lexer": "ipython3",
   "version": "3.6.8"
  }
 },
 "nbformat": 4,
 "nbformat_minor": 2
}
